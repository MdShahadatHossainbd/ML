{
  "nbformat": 4,
  "nbformat_minor": 0,
  "metadata": {
    "colab": {
      "name": "What is CountVectorizer in Python & How CountVectorizer Work.ipynb",
      "provenance": [],
      "authorship_tag": "ABX9TyNUtgGWj1eKLa4R7H86C/UK",
      "include_colab_link": true
    },
    "kernelspec": {
      "name": "python3",
      "display_name": "Python 3"
    }
  },
  "cells": [
    {
      "cell_type": "markdown",
      "metadata": {
        "id": "view-in-github",
        "colab_type": "text"
      },
      "source": [
        "<a href=\"https://colab.research.google.com/github/MdShahadatHossainbd/ML/blob/master/What_is_CountVectorizer_in_Python_%26_How_CountVectorizer_Work.ipynb\" target=\"_parent\"><img src=\"https://colab.research.google.com/assets/colab-badge.svg\" alt=\"Open In Colab\"/></a>"
      ]
    },
    {
      "cell_type": "code",
      "metadata": {
        "id": "ohzUxZw1myt3"
      },
      "source": [
        "from sklearn.feature_extraction.text import CountVectorizer"
      ],
      "execution_count": 1,
      "outputs": []
    },
    {
      "cell_type": "code",
      "metadata": {
        "id": "mBc6w5rUoed_"
      },
      "source": [
        "dataset = ['Hey welcome to the study mart',\n",
        "           'Hey I am shakil',\n",
        "           'I love Data to to Science',\n",
        "           'please subscribe to aiQuest']"
      ],
      "execution_count": 6,
      "outputs": []
    },
    {
      "cell_type": "code",
      "metadata": {
        "id": "eU4syYGUpOqW"
      },
      "source": [
        "cv = CountVectorizer()\n",
        "x = cv.fit_transform(dataset)"
      ],
      "execution_count": 7,
      "outputs": []
    },
    {
      "cell_type": "code",
      "metadata": {
        "id": "VC6qWPynpcpX",
        "outputId": "e4ea9d06-f8c6-47dc-f23f-cf5e55353bac",
        "colab": {
          "base_uri": "https://localhost:8080/",
          "height": 274
        }
      },
      "source": [
        "cv.get_feature_names()"
      ],
      "execution_count": 8,
      "outputs": [
        {
          "output_type": "execute_result",
          "data": {
            "text/plain": [
              "['aiquest',\n",
              " 'am',\n",
              " 'data',\n",
              " 'hey',\n",
              " 'love',\n",
              " 'mart',\n",
              " 'please',\n",
              " 'science',\n",
              " 'shakil',\n",
              " 'study',\n",
              " 'subscribe',\n",
              " 'the',\n",
              " 'to',\n",
              " 'welcome']"
            ]
          },
          "metadata": {
            "tags": []
          },
          "execution_count": 8
        }
      ]
    },
    {
      "cell_type": "code",
      "metadata": {
        "id": "syXuCUtWphAC",
        "outputId": "e2c7f24c-d4ba-4c9d-ea84-32beebf9d4c2",
        "colab": {
          "base_uri": "https://localhost:8080/",
          "height": 90
        }
      },
      "source": [
        "x.toarray()"
      ],
      "execution_count": 9,
      "outputs": [
        {
          "output_type": "execute_result",
          "data": {
            "text/plain": [
              "array([[0, 0, 0, 1, 0, 1, 0, 0, 0, 1, 0, 1, 1, 1],\n",
              "       [0, 1, 0, 1, 0, 0, 0, 0, 1, 0, 0, 0, 0, 0],\n",
              "       [0, 0, 1, 0, 1, 0, 0, 1, 0, 0, 0, 0, 2, 0],\n",
              "       [1, 0, 0, 0, 0, 0, 1, 0, 0, 0, 1, 0, 1, 0]])"
            ]
          },
          "metadata": {
            "tags": []
          },
          "execution_count": 9
        }
      ]
    }
  ]
}